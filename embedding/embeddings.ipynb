{
 "cells": [
  {
   "cell_type": "code",
   "execution_count": 5,
   "metadata": {},
   "outputs": [
    {
     "name": "stdout",
     "output_type": "stream",
     "text": [
      "Downloading from https://www.kaggle.com/api/v1/datasets/download/shamimhasan8/resume-vs-job-description-matching-dataset?dataset_version_number=1...\n"
     ]
    },
    {
     "name": "stderr",
     "output_type": "stream",
     "text": [
      "100%|██████████| 927k/927k [00:00<00:00, 5.36MB/s]"
     ]
    },
    {
     "name": "stdout",
     "output_type": "stream",
     "text": [
      "Extracting files...\n"
     ]
    },
    {
     "name": "stderr",
     "output_type": "stream",
     "text": [
      "\n"
     ]
    },
    {
     "data": {
      "text/plain": [
       "'../dataset/1'"
      ]
     },
     "execution_count": 5,
     "metadata": {},
     "output_type": "execute_result"
    }
   ],
   "source": [
    "# download resume dataset\n",
    "import kagglehub\n",
    "import shutil\n",
    "\n",
    "download_path = kagglehub.dataset_download(\"shamimhasan8/resume-vs-job-description-matching-dataset\")\n",
    "target_folder = \"../dataset\"\n",
    "\n",
    "shutil.move(download_path, target_folder)"
   ]
  },
  {
   "cell_type": "code",
   "execution_count": 6,
   "metadata": {},
   "outputs": [
    {
     "name": "stdout",
     "output_type": "stream",
     "text": [
      "Downloading from https://www.kaggle.com/api/v1/datasets/download/surendra365/recruitement-dataset?dataset_version_number=2...\n"
     ]
    },
    {
     "name": "stderr",
     "output_type": "stream",
     "text": [
      "100%|██████████| 1.58M/1.58M [00:00<00:00, 9.29MB/s]"
     ]
    },
    {
     "name": "stdout",
     "output_type": "stream",
     "text": [
      "Extracting files...\n"
     ]
    },
    {
     "name": "stderr",
     "output_type": "stream",
     "text": [
      "\n"
     ]
    },
    {
     "data": {
      "text/plain": [
       "'../dataset/2'"
      ]
     },
     "execution_count": 6,
     "metadata": {},
     "output_type": "execute_result"
    }
   ],
   "source": [
    "download_path = kagglehub.dataset_download(\"surendra365/recruitement-dataset\")\n",
    "\n",
    "shutil.move(download_path, target_folder)"
   ]
  },
  {
   "cell_type": "code",
   "execution_count": 7,
   "metadata": {},
   "outputs": [],
   "source": [
    "from sentence_transformers import SentenceTransformer, losses, InputExample\n",
    "from torch.utils.data import DataLoader\n",
    "import torch\n",
    "\n",
    "# use gpu is possible\n",
    "device = \"mps\" if torch.backends.mps.is_available() else \"cpu\"\n",
    "\n",
    "# load model on CPU first (to avoid meta tensor error)\n",
    "model = SentenceTransformer(\"all-MiniLM-L6-v2\", device=\"cpu\")\n",
    "model = model.to(device)"
   ]
  },
  {
   "cell_type": "code",
   "execution_count": 8,
   "metadata": {},
   "outputs": [],
   "source": [
    "import pandas as pd\n",
    "file_path = \"../dataset/resume_job_matching_dataset.csv\"\n",
    "df = pd.read_csv(file_path)\n",
    "\n",
    "# normalize similarity score (1-5) linearly from 0 to 1\n",
    "df['normal_score'] = (df['match_score'] - 1) / 4"
   ]
  },
  {
   "cell_type": "code",
   "execution_count": 9,
   "metadata": {},
   "outputs": [],
   "source": [
    "import pandas as pd\n",
    "file_path2 = \"../dataset/job_applicant_dataset.csv\"\n",
    "df2 = pd.read_csv(file_path2)"
   ]
  },
  {
   "cell_type": "code",
   "execution_count": 10,
   "metadata": {},
   "outputs": [
    {
     "name": "stdout",
     "output_type": "stream",
     "text": [
      "     Job Applicant Name  Age  Gender             Race   Ethnicity  \\\n",
      "0          Daisuke Mori   29    Male  Mongoloid/Asian  Vietnamese   \n",
      "1        Taichi Shimizu   31    Male  Mongoloid/Asian    Filipino   \n",
      "2          Sarah Martin   46  Female  White/Caucasian       Dutch   \n",
      "3          Keith Hughes   43    Male    Negroid/Black   Caribbean   \n",
      "4           James Davis   49    Male  White/Caucasian     English   \n",
      "...                 ...  ...     ...              ...         ...   \n",
      "9995      Jada Williams   30  Female    Negroid/Black    Ghanaian   \n",
      "9996       Jaden Carter   52    Male    Negroid/Black    Nigerian   \n",
      "9997         Mia Foster   25  Female  White/Caucasian      German   \n",
      "9998       Stella Green   51  Female  White/Caucasian       Irish   \n",
      "9999        Ryo Nishida   46    Male  Mongoloid/Asian        Thai   \n",
      "\n",
      "                                                 Resume             Job Roles  \\\n",
      "0     Proficient in Injury Prevention, Motivation, N...         Fitness Coach   \n",
      "1     Proficient in Healthcare, Pharmacology, Medica...             Physician   \n",
      "2     Proficient in Forecasting, Financial Modelling...     Financial Analyst   \n",
      "3     Proficient in Budgeting, Supply Chain Optimiza...  Supply Chain Manager   \n",
      "4     Proficient in Logistics, Negotiation, Procurem...  Supply Chain Manager   \n",
      "...                                                 ...                   ...   \n",
      "9995  Proficient in Biology, Regulatory Compliance, ...   Biomedical Engineer   \n",
      "9996  Proficient in Communication, Teamwork, Lesson ...               Teacher   \n",
      "9997  Proficient in Medical Terminology, Critical Th...             Physician   \n",
      "9998  Proficient in Exercise Programming, Motivation...         Fitness Coach   \n",
      "9999  Proficient in Content Strategy, Copywriting, C...        Content Writer   \n",
      "\n",
      "                                        Job Description  Best Match  \n",
      "0      A Fitness Coach is responsible for helping cl...           0  \n",
      "1     Diagnose and treat illnesses, prescribe medica...           0  \n",
      "2     As a Financial Analyst, you will be responsibl...           0  \n",
      "3     A Supply Chain Manager oversees the entire sup...           1  \n",
      "4     A Supply Chain Manager oversees the entire sup...           1  \n",
      "...                                                 ...         ...  \n",
      "9995  A Biomedical Engineer designs and develops med...           0  \n",
      "9996  A Teacher shapes the future of students by del...           0  \n",
      "9997  Diagnose and treat illnesses, prescribe medica...           0  \n",
      "9998   A Fitness Coach is responsible for helping cl...           1  \n",
      "9999  As a Content Writer, you will create written m...           0  \n",
      "\n",
      "[10000 rows x 9 columns]\n"
     ]
    }
   ],
   "source": [
    "print(df2)"
   ]
  },
  {
   "cell_type": "code",
   "execution_count": 11,
   "metadata": {},
   "outputs": [
    {
     "name": "stdout",
     "output_type": "stream",
     "text": [
      "0       1\n",
      "1       1\n",
      "2       1\n",
      "3       1\n",
      "4       1\n",
      "       ..\n",
      "9995    1\n",
      "9996    0\n",
      "9997    0\n",
      "9998    0\n",
      "9999    1\n",
      "Name: normal_score, Length: 10000, dtype: int64\n"
     ]
    }
   ],
   "source": [
    "# make sure values are from 0 - 1\n",
    "import numpy as np\n",
    "df['normal_score'].describe()\n",
    "df['normal_score'] = np.where(df['normal_score'] >= 0.5, 1, 0)\n",
    "print(df['normal_score'])"
   ]
  },
  {
   "cell_type": "code",
   "execution_count": 12,
   "metadata": {},
   "outputs": [],
   "source": [
    "#combine 2 datasets\n",
    "df2_renamed = df2.rename(columns={\n",
    "    'Best Match': 'normal_score',\n",
    "    'Job Description': 'job_description',\n",
    "    \"Resume\" : 'resume'\n",
    "})\n",
    "\n",
    "columns_to_keep = ['job_description', 'resume', 'normal_score']\n",
    "df2_sub = df2_renamed[columns_to_keep].copy()\n",
    "\n",
    "for col in df.columns:\n",
    "    if col not in df2_sub.columns:\n",
    "        df2_sub.loc[:, col] = pd.NA\n",
    "\n",
    "# Now concatenate\n",
    "df_combined = pd.concat([df, df2_sub], ignore_index=True, sort=False)"
   ]
  },
  {
   "cell_type": "code",
   "execution_count": 13,
   "metadata": {},
   "outputs": [
    {
     "data": {
      "text/html": [
       "<div>\n",
       "<style scoped>\n",
       "    .dataframe tbody tr th:only-of-type {\n",
       "        vertical-align: middle;\n",
       "    }\n",
       "\n",
       "    .dataframe tbody tr th {\n",
       "        vertical-align: top;\n",
       "    }\n",
       "\n",
       "    .dataframe thead th {\n",
       "        text-align: right;\n",
       "    }\n",
       "</style>\n",
       "<table border=\"1\" class=\"dataframe\">\n",
       "  <thead>\n",
       "    <tr style=\"text-align: right;\">\n",
       "      <th></th>\n",
       "      <th>job_description</th>\n",
       "      <th>resume</th>\n",
       "      <th>match_score</th>\n",
       "      <th>normal_score</th>\n",
       "    </tr>\n",
       "  </thead>\n",
       "  <tbody>\n",
       "    <tr>\n",
       "      <th>0</th>\n",
       "      <td>Data Analyst needed with experience in SQL, Ex...</td>\n",
       "      <td>Experienced professional skilled in SQL, Power...</td>\n",
       "      <td>4</td>\n",
       "      <td>1</td>\n",
       "    </tr>\n",
       "    <tr>\n",
       "      <th>1</th>\n",
       "      <td>Data Scientist needed with experience in Stati...</td>\n",
       "      <td>Experienced professional skilled in Python, De...</td>\n",
       "      <td>4</td>\n",
       "      <td>1</td>\n",
       "    </tr>\n",
       "    <tr>\n",
       "      <th>2</th>\n",
       "      <td>Software Engineer needed with experience in Sy...</td>\n",
       "      <td>Experienced professional skilled in wait, Git,...</td>\n",
       "      <td>5</td>\n",
       "      <td>1</td>\n",
       "    </tr>\n",
       "    <tr>\n",
       "      <th>3</th>\n",
       "      <td>ML Engineer needed with experience in Python, ...</td>\n",
       "      <td>Experienced professional skilled in return, De...</td>\n",
       "      <td>4</td>\n",
       "      <td>1</td>\n",
       "    </tr>\n",
       "    <tr>\n",
       "      <th>4</th>\n",
       "      <td>Software Engineer needed with experience in RE...</td>\n",
       "      <td>Experienced professional skilled in REST APIs,...</td>\n",
       "      <td>5</td>\n",
       "      <td>1</td>\n",
       "    </tr>\n",
       "    <tr>\n",
       "      <th>...</th>\n",
       "      <td>...</td>\n",
       "      <td>...</td>\n",
       "      <td>...</td>\n",
       "      <td>...</td>\n",
       "    </tr>\n",
       "    <tr>\n",
       "      <th>19995</th>\n",
       "      <td>A Biomedical Engineer designs and develops med...</td>\n",
       "      <td>Proficient in Biology, Regulatory Compliance, ...</td>\n",
       "      <td>&lt;NA&gt;</td>\n",
       "      <td>0</td>\n",
       "    </tr>\n",
       "    <tr>\n",
       "      <th>19996</th>\n",
       "      <td>A Teacher shapes the future of students by del...</td>\n",
       "      <td>Proficient in Communication, Teamwork, Lesson ...</td>\n",
       "      <td>&lt;NA&gt;</td>\n",
       "      <td>0</td>\n",
       "    </tr>\n",
       "    <tr>\n",
       "      <th>19997</th>\n",
       "      <td>Diagnose and treat illnesses, prescribe medica...</td>\n",
       "      <td>Proficient in Medical Terminology, Critical Th...</td>\n",
       "      <td>&lt;NA&gt;</td>\n",
       "      <td>0</td>\n",
       "    </tr>\n",
       "    <tr>\n",
       "      <th>19998</th>\n",
       "      <td>A Fitness Coach is responsible for helping cl...</td>\n",
       "      <td>Proficient in Exercise Programming, Motivation...</td>\n",
       "      <td>&lt;NA&gt;</td>\n",
       "      <td>1</td>\n",
       "    </tr>\n",
       "    <tr>\n",
       "      <th>19999</th>\n",
       "      <td>As a Content Writer, you will create written m...</td>\n",
       "      <td>Proficient in Content Strategy, Copywriting, C...</td>\n",
       "      <td>&lt;NA&gt;</td>\n",
       "      <td>0</td>\n",
       "    </tr>\n",
       "  </tbody>\n",
       "</table>\n",
       "<p>20000 rows × 4 columns</p>\n",
       "</div>"
      ],
      "text/plain": [
       "                                         job_description  \\\n",
       "0      Data Analyst needed with experience in SQL, Ex...   \n",
       "1      Data Scientist needed with experience in Stati...   \n",
       "2      Software Engineer needed with experience in Sy...   \n",
       "3      ML Engineer needed with experience in Python, ...   \n",
       "4      Software Engineer needed with experience in RE...   \n",
       "...                                                  ...   \n",
       "19995  A Biomedical Engineer designs and develops med...   \n",
       "19996  A Teacher shapes the future of students by del...   \n",
       "19997  Diagnose and treat illnesses, prescribe medica...   \n",
       "19998   A Fitness Coach is responsible for helping cl...   \n",
       "19999  As a Content Writer, you will create written m...   \n",
       "\n",
       "                                                  resume match_score  \\\n",
       "0      Experienced professional skilled in SQL, Power...           4   \n",
       "1      Experienced professional skilled in Python, De...           4   \n",
       "2      Experienced professional skilled in wait, Git,...           5   \n",
       "3      Experienced professional skilled in return, De...           4   \n",
       "4      Experienced professional skilled in REST APIs,...           5   \n",
       "...                                                  ...         ...   \n",
       "19995  Proficient in Biology, Regulatory Compliance, ...        <NA>   \n",
       "19996  Proficient in Communication, Teamwork, Lesson ...        <NA>   \n",
       "19997  Proficient in Medical Terminology, Critical Th...        <NA>   \n",
       "19998  Proficient in Exercise Programming, Motivation...        <NA>   \n",
       "19999  Proficient in Content Strategy, Copywriting, C...        <NA>   \n",
       "\n",
       "       normal_score  \n",
       "0                 1  \n",
       "1                 1  \n",
       "2                 1  \n",
       "3                 1  \n",
       "4                 1  \n",
       "...             ...  \n",
       "19995             0  \n",
       "19996             0  \n",
       "19997             0  \n",
       "19998             1  \n",
       "19999             0  \n",
       "\n",
       "[20000 rows x 4 columns]"
      ]
     },
     "execution_count": 13,
     "metadata": {},
     "output_type": "execute_result"
    }
   ],
   "source": [
    "df_combined"
   ]
  },
  {
   "cell_type": "code",
   "execution_count": 14,
   "metadata": {},
   "outputs": [],
   "source": [
    "import re\n",
    "\n",
    "def clean_text(text):\n",
    "    text = text.lower()\n",
    "    # collapse multiple spaces/newlines into a single space\n",
    "    text = re.sub(r'\\s+', ' ', text)\n",
    "    text = re.sub(r'[^a-z0-9\\s.,\\-+#/]', '', text)\n",
    "    return text.strip()"
   ]
  },
  {
   "cell_type": "code",
   "execution_count": 15,
   "metadata": {},
   "outputs": [],
   "source": [
    "df_combined['job_description'] = df_combined['job_description'].apply(clean_text)\n",
    "df_combined['resume'] = df_combined['resume'].apply(clean_text)"
   ]
  },
  {
   "cell_type": "code",
   "execution_count": 16,
   "metadata": {},
   "outputs": [],
   "source": [
    "from sklearn.model_selection import train_test_split\n",
    "\n",
    "train_df, test_df = train_test_split(\n",
    "    df_combined,\n",
    "    test_size=0.2,\n",
    "    stratify=df_combined[\"normal_score\"],  # keeps balance of 0/1\n",
    "    random_state=42\n",
    ")"
   ]
  },
  {
   "cell_type": "code",
   "execution_count": 17,
   "metadata": {},
   "outputs": [],
   "source": [
    "from sentence_transformers import InputExample\n",
    "\n",
    "examples = []\n",
    "for _, row in df_combined.iterrows():\n",
    "    if pd.notna(row['normal_score']):  # skip NaN rows\n",
    "        examples.append(\n",
    "            InputExample(\n",
    "                texts=[row['resume'], row['job_description']], \n",
    "                label=float(row['normal_score'])\n",
    "            )\n",
    "        )\n",
    "\n",
    "train_examples = [\n",
    "    InputExample(texts=[row['resume'], row['job_description']], label=float(row['normal_score']))\n",
    "    for _, row in train_df.iterrows()\n",
    "]\n",
    "\n",
    "test_examples = [\n",
    "    InputExample(texts=[row['resume'], row['job_description']], label=float(row['normal_score']))\n",
    "    for _, row in test_df.iterrows()\n",
    "]"
   ]
  },
  {
   "cell_type": "code",
   "execution_count": 18,
   "metadata": {},
   "outputs": [
    {
     "data": {
      "application/vnd.jupyter.widget-view+json": {
       "model_id": "e8636e31331f4743ab69a3808a5cd56c",
       "version_major": 2,
       "version_minor": 0
      },
      "text/plain": [
       "Computing widget examples:   0%|          | 0/1 [00:00<?, ?example/s]"
      ]
     },
     "metadata": {},
     "output_type": "display_data"
    },
    {
     "name": "stderr",
     "output_type": "stream",
     "text": [
      "/opt/anaconda3/lib/python3.12/site-packages/torch/utils/data/dataloader.py:684: UserWarning: 'pin_memory' argument is set as true but not supported on MPS now, then device pinned memory won't be used.\n",
      "  warnings.warn(warn_msg)\n"
     ]
    },
    {
     "data": {
      "text/html": [
       "\n",
       "    <div>\n",
       "      \n",
       "      <progress value='10000' max='10000' style='width:300px; height:20px; vertical-align: middle;'></progress>\n",
       "      [10000/10000 25:07, Epoch 5/5]\n",
       "    </div>\n",
       "    <table border=\"1\" class=\"dataframe\">\n",
       "  <thead>\n",
       " <tr style=\"text-align: left;\">\n",
       "      <th>Step</th>\n",
       "      <th>Training Loss</th>\n",
       "    </tr>\n",
       "  </thead>\n",
       "  <tbody>\n",
       "    <tr>\n",
       "      <td>500</td>\n",
       "      <td>0.191900</td>\n",
       "    </tr>\n",
       "    <tr>\n",
       "      <td>1000</td>\n",
       "      <td>0.174700</td>\n",
       "    </tr>\n",
       "    <tr>\n",
       "      <td>1500</td>\n",
       "      <td>0.170400</td>\n",
       "    </tr>\n",
       "    <tr>\n",
       "      <td>2000</td>\n",
       "      <td>0.159200</td>\n",
       "    </tr>\n",
       "    <tr>\n",
       "      <td>2500</td>\n",
       "      <td>0.162300</td>\n",
       "    </tr>\n",
       "    <tr>\n",
       "      <td>3000</td>\n",
       "      <td>0.159100</td>\n",
       "    </tr>\n",
       "    <tr>\n",
       "      <td>3500</td>\n",
       "      <td>0.159400</td>\n",
       "    </tr>\n",
       "    <tr>\n",
       "      <td>4000</td>\n",
       "      <td>0.156300</td>\n",
       "    </tr>\n",
       "    <tr>\n",
       "      <td>4500</td>\n",
       "      <td>0.150200</td>\n",
       "    </tr>\n",
       "    <tr>\n",
       "      <td>5000</td>\n",
       "      <td>0.154800</td>\n",
       "    </tr>\n",
       "    <tr>\n",
       "      <td>5500</td>\n",
       "      <td>0.153300</td>\n",
       "    </tr>\n",
       "    <tr>\n",
       "      <td>6000</td>\n",
       "      <td>0.151700</td>\n",
       "    </tr>\n",
       "    <tr>\n",
       "      <td>6500</td>\n",
       "      <td>0.148100</td>\n",
       "    </tr>\n",
       "    <tr>\n",
       "      <td>7000</td>\n",
       "      <td>0.141800</td>\n",
       "    </tr>\n",
       "    <tr>\n",
       "      <td>7500</td>\n",
       "      <td>0.148600</td>\n",
       "    </tr>\n",
       "    <tr>\n",
       "      <td>8000</td>\n",
       "      <td>0.148200</td>\n",
       "    </tr>\n",
       "    <tr>\n",
       "      <td>8500</td>\n",
       "      <td>0.140400</td>\n",
       "    </tr>\n",
       "    <tr>\n",
       "      <td>9000</td>\n",
       "      <td>0.142000</td>\n",
       "    </tr>\n",
       "    <tr>\n",
       "      <td>9500</td>\n",
       "      <td>0.144500</td>\n",
       "    </tr>\n",
       "    <tr>\n",
       "      <td>10000</td>\n",
       "      <td>0.140900</td>\n",
       "    </tr>\n",
       "  </tbody>\n",
       "</table><p>"
      ],
      "text/plain": [
       "<IPython.core.display.HTML object>"
      ]
     },
     "metadata": {},
     "output_type": "display_data"
    }
   ],
   "source": [
    "from torch.utils.data import DataLoader\n",
    "from sentence_transformers import SentenceTransformer, losses\n",
    "\n",
    "train_dataloader = DataLoader(train_examples, shuffle=True, batch_size=8)\n",
    "\n",
    "model = SentenceTransformer(\"all-MiniLM-L6-v2\")\n",
    "\n",
    "train_loss = losses.CosineSimilarityLoss(model=model)\n",
    "model.fit(\n",
    "    train_objectives=[(train_dataloader, train_loss)],\n",
    "    epochs=5,\n",
    "    warmup_steps=int(len(train_dataloader) * 0.1),\n",
    "    show_progress_bar=True\n",
    ")\n",
    "\n"
   ]
  },
  {
   "cell_type": "code",
   "execution_count": 19,
   "metadata": {},
   "outputs": [
    {
     "data": {
      "application/vnd.jupyter.widget-view+json": {
       "model_id": "84a36f6991054a55a34796809f682bc5",
       "version_major": 2,
       "version_minor": 0
      },
      "text/plain": [
       "Batches:   0%|          | 0/125 [00:00<?, ?it/s]"
      ]
     },
     "metadata": {},
     "output_type": "display_data"
    },
    {
     "data": {
      "application/vnd.jupyter.widget-view+json": {
       "model_id": "9707988f900b4927947635c82918ca32",
       "version_major": 2,
       "version_minor": 0
      },
      "text/plain": [
       "Batches:   0%|          | 0/125 [00:00<?, ?it/s]"
      ]
     },
     "metadata": {},
     "output_type": "display_data"
    },
    {
     "name": "stdout",
     "output_type": "stream",
     "text": [
      "ROC AUC: 0.8050\n",
      "Accuracy: 0.6970\n"
     ]
    }
   ],
   "source": [
    "from sklearn.metrics import roc_auc_score, accuracy_score\n",
    "\n",
    "job_texts = [ex.texts[1] for ex in test_examples]\n",
    "resume_texts = [ex.texts[0] for ex in test_examples]\n",
    "labels = [ex.label for ex in test_examples]\n",
    "\n",
    "job_embs = model.encode(job_texts, convert_to_numpy=True, show_progress_bar=True)\n",
    "resume_embs = model.encode(resume_texts, convert_to_numpy=True, show_progress_bar=True)\n",
    "\n",
    "# cosine similarity\n",
    "cosine_scores = np.sum(job_embs * resume_embs, axis=1) / (\n",
    "    np.linalg.norm(job_embs, axis=1) * np.linalg.norm(resume_embs, axis=1)\n",
    ")\n",
    "\n",
    "# metrics\n",
    "roc_auc = roc_auc_score(labels, cosine_scores)\n",
    "preds = [1 if s > 0.5 else 0 for s in cosine_scores]  # threshold at 0.5\n",
    "acc = accuracy_score(labels, preds)\n",
    "\n",
    "print(f\"ROC AUC: {roc_auc:.4f}\")\n",
    "print(f\"Accuracy: {acc:.4f}\")"
   ]
  },
  {
   "cell_type": "code",
   "execution_count": 22,
   "metadata": {},
   "outputs": [],
   "source": [
    "model.save(\"../model/all_minilm_finetuned\")"
   ]
  }
 ],
 "metadata": {
  "kernelspec": {
   "display_name": "base",
   "language": "python",
   "name": "python3"
  },
  "language_info": {
   "codemirror_mode": {
    "name": "ipython",
    "version": 3
   },
   "file_extension": ".py",
   "mimetype": "text/x-python",
   "name": "python",
   "nbconvert_exporter": "python",
   "pygments_lexer": "ipython3",
   "version": "3.12.2"
  },
  "orig_nbformat": 4
 },
 "nbformat": 4,
 "nbformat_minor": 2
}
